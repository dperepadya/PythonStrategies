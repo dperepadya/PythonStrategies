{
 "cells": [
  {
   "cell_type": "code",
   "execution_count": 63,
   "id": "da77efd7-afe3-4e4f-91d0-399a7358fc49",
   "metadata": {},
   "outputs": [],
   "source": [
    "from binance.client import Client\n",
    "import pandas as pd\n",
    "import numpy as np\n",
    "import statsmodels.api as sm\n",
    "from itertools import combinations\n",
    "from backtesting import Backtest, Strategy\n",
    "from backtesting.lib import crossover, cross, resample_apply, plot_heatmaps\n",
    "from skopt.plots import plot_objective\n",
    "import scipy.optimize as spopt\n",
    "from pykalman import KalmanFilter\n",
    "import seaborn as sns\n",
    "import matplotlib.pyplot as plt"
   ]
  },
  {
   "cell_type": "code",
   "execution_count": 64,
   "id": "4e1c7479-21f0-4223-bdda-6a5c035956ec",
   "metadata": {},
   "outputs": [],
   "source": [
    "# DATA LOAD AND PROCESSING"
   ]
  },
  {
   "cell_type": "code",
   "execution_count": 65,
   "id": "a867403f-c2dc-452a-8200-be4db91e4adc",
   "metadata": {},
   "outputs": [],
   "source": [
    "api_key = '123'\n",
    "api_secret = '123'"
   ]
  },
  {
   "cell_type": "code",
   "execution_count": 66,
   "id": "c3451bd3-0d68-48e6-9e8e-3a3904bf55a0",
   "metadata": {},
   "outputs": [],
   "source": [
    "client = Client(api_key, api_secret)"
   ]
  },
  {
   "cell_type": "code",
   "execution_count": 67,
   "id": "9893bd9a-6e42-4d67-a760-3498840ed383",
   "metadata": {},
   "outputs": [],
   "source": [
    "# List of pairs qouted in Tether\n",
    "symbols = ['BTCUSDT']"
   ]
  },
  {
   "cell_type": "code",
   "execution_count": 68,
   "id": "a6c4355c-3251-4ae7-b905-ae48ceb54e05",
   "metadata": {},
   "outputs": [],
   "source": [
    "interval = Client.KLINE_INTERVAL_15MINUTE\n",
    "start_date = '2023-01-01'\n",
    "end_date = '2023-12-31'"
   ]
  },
  {
   "cell_type": "code",
   "execution_count": 69,
   "id": "3e45ecbe-c0d0-4434-9c8a-66cf77ae1a42",
   "metadata": {},
   "outputs": [],
   "source": [
    "def load_data(symbol, interval, start_date, end_date):\n",
    "    \"\"\"\n",
    "    Load OHLCV MD for a symbol\n",
    "    \"\"\"\n",
    "    klines = client.get_historical_klines(symbol, interval, start_date, end_date)\n",
    "    columns = ['timestamp', 'open', 'high', 'low', 'close', 'volume', 'close_time', 'quote_asset_volume', 'number_of_trades',\n",
    "               'taker_buy_base_asset_volume', 'taker_buy_quote_asset_volume', 'ignore']\n",
    "    df = pd.DataFrame(klines, columns=columns)\n",
    "    df['timestamp'] = pd.to_datetime(df['timestamp'], unit='ms')\n",
    "    df = df[['timestamp', 'open', 'high', 'low', 'close', 'volume']]\n",
    "    df.set_index('timestamp', inplace=True)\n",
    "    df.rename(columns={'open': 'Open', 'high': 'High', 'low': 'Low', 'close': 'Close', 'volume': 'Volume'}, inplace=True)\n",
    "    numeric_cols = ['Open', 'High', 'Low', 'Close', 'Volume']\n",
    "    df[numeric_cols] = df[numeric_cols].apply(pd.to_numeric, errors='coerce')\n",
    "    return df"
   ]
  },
  {
   "cell_type": "code",
   "execution_count": 70,
   "id": "98220004-6f4c-464f-b0a4-703709ac58ce",
   "metadata": {},
   "outputs": [],
   "source": [
    "def load_data_for_symbols(symbols, interval, start_date, end_date):\n",
    "    \"\"\"\n",
    "    Load OHLCV MD for a symbols batch\n",
    "    \"\"\"\n",
    "    data = {}\n",
    "    for symbol in symbols:\n",
    "        df = load_data(symbol, interval, start_date, end_date)\n",
    "        data[symbol] = df\n",
    "    return data"
   ]
  },
  {
   "cell_type": "code",
   "execution_count": 71,
   "id": "feb4a9e4-9867-4a07-90c7-667cf3a37377",
   "metadata": {},
   "outputs": [],
   "source": [
    "symbols_df = load_data_for_symbols(symbols, interval, start_date, end_date)"
   ]
  },
  {
   "cell_type": "code",
   "execution_count": 72,
   "id": "4542ea06-cfa0-4c6e-85a2-316b06bec1fd",
   "metadata": {},
   "outputs": [
    {
     "name": "stdout",
     "output_type": "stream",
     "text": [
      "dict_keys(['BTCUSDT'])\n"
     ]
    }
   ],
   "source": [
    "print(symbols_df.keys())"
   ]
  },
  {
   "cell_type": "code",
   "execution_count": 73,
   "id": "1449ee33-481c-4fed-8336-d76539bab2e7",
   "metadata": {},
   "outputs": [],
   "source": [
    "#print(symbols_df.items())"
   ]
  },
  {
   "cell_type": "code",
   "execution_count": 74,
   "id": "3baaf2d8-3147-4dfc-9c66-a2730b6d2f0b",
   "metadata": {},
   "outputs": [
    {
     "name": "stdout",
     "output_type": "stream",
     "text": [
      "                Open      High      Low     Close      Volume\n",
      "timestamp                                                    \n",
      "2023-01-01  16541.77  16544.76  16520.0  16520.69  1172.53835\n"
     ]
    }
   ],
   "source": [
    "print(symbols_df['BTCUSDT'].head(1))"
   ]
  },
  {
   "cell_type": "code",
   "execution_count": 75,
   "id": "5fed8f51-bb29-4818-ad57-32343c79bbcd",
   "metadata": {},
   "outputs": [],
   "source": [
    "symbol = 'BTCUSDT'"
   ]
  },
  {
   "cell_type": "code",
   "execution_count": 76,
   "id": "644c0f33-a1d9-4444-a009-66667a5c443f",
   "metadata": {},
   "outputs": [],
   "source": [
    "df = symbols_df[symbol]"
   ]
  },
  {
   "cell_type": "code",
   "execution_count": 77,
   "id": "ea941a3e-24b2-430f-960b-319ada766d44",
   "metadata": {},
   "outputs": [],
   "source": [
    "#df.info()"
   ]
  },
  {
   "cell_type": "code",
   "execution_count": 78,
   "id": "117e81e1-30ea-484d-a9e0-5b9500bb8cfc",
   "metadata": {},
   "outputs": [
    {
     "data": {
      "text/html": [
       "<div>\n",
       "<style scoped>\n",
       "    .dataframe tbody tr th:only-of-type {\n",
       "        vertical-align: middle;\n",
       "    }\n",
       "\n",
       "    .dataframe tbody tr th {\n",
       "        vertical-align: top;\n",
       "    }\n",
       "\n",
       "    .dataframe thead th {\n",
       "        text-align: right;\n",
       "    }\n",
       "</style>\n",
       "<table border=\"1\" class=\"dataframe\">\n",
       "  <thead>\n",
       "    <tr style=\"text-align: right;\">\n",
       "      <th></th>\n",
       "      <th>Open</th>\n",
       "      <th>High</th>\n",
       "      <th>Low</th>\n",
       "      <th>Close</th>\n",
       "      <th>Volume</th>\n",
       "    </tr>\n",
       "    <tr>\n",
       "      <th>timestamp</th>\n",
       "      <th></th>\n",
       "      <th></th>\n",
       "      <th></th>\n",
       "      <th></th>\n",
       "      <th></th>\n",
       "    </tr>\n",
       "  </thead>\n",
       "  <tbody>\n",
       "    <tr>\n",
       "      <th>2023-01-01</th>\n",
       "      <td>16541.77</td>\n",
       "      <td>16544.76</td>\n",
       "      <td>16520.0</td>\n",
       "      <td>16520.69</td>\n",
       "      <td>1172.53835</td>\n",
       "    </tr>\n",
       "  </tbody>\n",
       "</table>\n",
       "</div>"
      ],
      "text/plain": [
       "                Open      High      Low     Close      Volume\n",
       "timestamp                                                    \n",
       "2023-01-01  16541.77  16544.76  16520.0  16520.69  1172.53835"
      ]
     },
     "execution_count": 78,
     "metadata": {},
     "output_type": "execute_result"
    }
   ],
   "source": [
    "df.head(1)"
   ]
  },
  {
   "cell_type": "code",
   "execution_count": 79,
   "id": "79f63cbc-385e-4b8d-a454-61daa92abdba",
   "metadata": {},
   "outputs": [],
   "source": [
    "# TECHNICAL INDICATORS"
   ]
  },
  {
   "cell_type": "code",
   "execution_count": 80,
   "id": "31b03669-4c1d-491c-ade5-a85819c06fa4",
   "metadata": {},
   "outputs": [],
   "source": [
    "def keltner_channel(data, period=12, atr_multiplier=2):\n",
    "    \"\"\"\n",
    "    Keltner Channel Indicator (ATR volatility range)\n",
    "    \"\"\"\n",
    "    true_range = data['High'] - data['Low']\n",
    "    # print(len(true_range))\n",
    "    previous_close = pd.Series(data['Close']).shift(1)\n",
    "    \n",
    "    high_minus_previous_close = abs(data['High'] - previous_close)\n",
    "    low_minus_previous_close = abs(data['Low'] - previous_close)\n",
    "\n",
    "    true_range = np.maximum.reduce([true_range, high_minus_previous_close, low_minus_previous_close])\n",
    "\n",
    "    true_range_series = pd.Series(true_range, index=data.index)\n",
    "    # print(len(true_range_series))\n",
    "    \n",
    "    true_range_series = pd.Series(data['High']) - pd.Series(data['Low'])\n",
    "    # print(len(true_range_series))\n",
    "    # Compute ATR\n",
    "    atr = true_range_series.rolling(period, min_periods=1).mean()\n",
    "    # print('atr', len(atr))\n",
    "    # Compute Keltner Channel range\n",
    "    mean = pd.Series(data['Close']).rolling(period).mean()\n",
    "    upper_channel =  mean + atr * atr_multiplier\n",
    "    lower_channel = mean - atr * atr_multiplier\n",
    "    #print(len(upper_channel))\n",
    "    return pd.DataFrame({'upper': upper_channel, 'lower': lower_channel, 'mean': mean})"
   ]
  },
  {
   "cell_type": "code",
   "execution_count": 81,
   "id": "45ca2884-a37f-46fe-beaf-55aa14706197",
   "metadata": {},
   "outputs": [],
   "source": [
    "enable_echo = True"
   ]
  },
  {
   "cell_type": "code",
   "execution_count": 82,
   "id": "a3950903-0db5-44bc-b7f0-632e4d481dd7",
   "metadata": {},
   "outputs": [],
   "source": [
    "def log(*args, **kwargs):\n",
    "    if enable_echo:\n",
    "        print(*args, **kwargs)"
   ]
  },
  {
   "cell_type": "code",
   "execution_count": 83,
   "id": "c070b9a6-bbeb-4fb6-a6aa-a96335edd265",
   "metadata": {},
   "outputs": [],
   "source": [
    "# STRATEGIES"
   ]
  },
  {
   "cell_type": "code",
   "execution_count": 84,
   "id": "4348c51a-a186-4396-ab88-2d7ba064bc78",
   "metadata": {},
   "outputs": [],
   "source": [
    "class KelnerChannelRVStrategy(Strategy):\n",
    "    \"\"\"\n",
    "    Simple RV trading system based on Keltner channel.\n",
    "    Entry Logic: Price is outside a channel's border\n",
    "    Exit Logic: Price returned to the channel's mean\n",
    "    Position Management: Stop Loss, Take Profit, Breakeven\n",
    "    \"\"\"\n",
    "    # Logic\n",
    "    \n",
    "    # Input parameters for Keltner Channels Spread\n",
    "    kch_period = 6\n",
    "    kch_mult = 3.5\n",
    "\n",
    "    # Exit trigger\n",
    "    exit_trig_is_on = 0\n",
    "    # stop_loss\n",
    "    stop_loss_is_on = 1\n",
    "    # Extremum search lookback\n",
    "    stop_loss_lookback = 4\n",
    "    stop_loss_pct = 0.0\n",
    "    # Break even from Entry price\n",
    "    break_even_is_on = 1\n",
    "    break_even_pct = 0.001\n",
    "    # Dynamic TP\n",
    "    profit_target_is_on = 0\n",
    "    profit_target_dyn_ratio = 1\n",
    "\n",
    "    def init(self):\n",
    "        super().init()\n",
    "        # Compute fast and slow Kelner Channels\n",
    "        # log(type(self.data.Close))\n",
    "        self.kch_channel = self.I(keltner_channel, self.data, self.kch_period, self.kch_mult)\n",
    "        \n",
    "        self.kch_upborder = self.kch_channel[0]\n",
    "        self.kch_downborder = self.kch_channel[1]\n",
    "        self.kch_mean = self.kch_channel[2]\n",
    "        \n",
    "        #log('up fast', self.kch_upborder)\n",
    "        #log('dn fast', self.kch_downborder)\n",
    "        \n",
    "        # Position varaibles\n",
    "        self.stop_loss = 0\n",
    "        self.profit_target = 0\n",
    "        self.be_level = 0\n",
    "        self.entry_price = 0\n",
    "                \n",
    "    def next(self):\n",
    "        # A Position is opened        \n",
    "        if self.position:\n",
    "            # log(self.position.size)\n",
    "            # Check Exit triggers\n",
    "            exit_trigger = False\n",
    "            sign = 1 if self.position.is_long else -1\n",
    "            side = 'long' if self.position.is_long else 'short'\n",
    "            # Check Exit trigger\n",
    "            exit_trigger = (self.data.Close[-1] - self.kch_mean[-1]) * sign > 0 or \\\n",
    "                    self.stop_loss > 0 and (self.data.Close[-1] - self.stop_loss) * sign < 0  or \\\n",
    "                    self.profit_target > 0 and (self.data.Close[-1] - self.profit_target) * sign > 0            \n",
    "            if exit_trigger:\n",
    "                log(side, 'close trigger:', 'mean', self.kch_mean[-1], self.data.Close[-1])\n",
    "                # Exit action\n",
    "                #log('close the position:', self.position.size, self.data.index[-1], self.data.Close[-1])\n",
    "                #log('-' * 90)\n",
    "                self.position.close()\n",
    "            # Check Breakeven trigger\n",
    "            elif self.break_even_is_on == 1 and self.be_level == 0:                \n",
    "                thresh = self.entry_price * (1 + self.break_even_pct * sign)\n",
    "                if (self.data.Close[-1] - thresh) * sign > 0:\n",
    "                    self.be_level = thresh   \n",
    "                    self.stop_loss = thresh    \n",
    "                #log('be level:', self.data.index[-1], self.entry_price, self.break_even_pct, '->', thresh, self.data.Close[-1])\n",
    "                 \n",
    "        # Is Flat\n",
    "        #log(self.position, type(self.position))\n",
    "        if self.position.size == 0:\n",
    "            # log('position is flat')\n",
    "            # Long trigger\n",
    "            if self.data.Close[-1] < self.kch_downborder[-1]:\n",
    "                log('long trigger', self.data.index[-1], 'c', self.data.Close[-1], 'o', self.data.Open[-1], 'dn', self.kch_downborder[-1])\n",
    "                log('open long', self.data.Close[-1])\n",
    "                self.buy()\n",
    "                self.entry_price = self.data.Close[-1]\n",
    "                self.be_level = 0\n",
    "                # Set initial Stop Loss and Profit Target\n",
    "                if self.stop_loss_is_on == 1:\n",
    "                    min_level = pd.Series(self.data.Low).rolling(window=self.stop_loss_lookback).min().iloc[-1]\n",
    "                    #log(min_level)                 \n",
    "                    self.stop_loss = min_level * (1 - self.stop_loss_pct)\n",
    "                #log('sl', self.stop_loss)\n",
    "                if self.profit_target_is_on == 1:\n",
    "                    self.profit_target = self.entry_price + abs(self.entry_price - self.stop_loss) * self.profit_target_dyn_ratio\n",
    "                log(f'intial sl {self.stop_loss} and tp {self.profit_target}')\n",
    "            # Short trigger\n",
    "            elif self.data.Close[-1] > self.kch_upborder[-1]:\n",
    "                log('short trigger', self.data.index[-1], 'c', self.data.Close[-1], 'o', self.data.Open[-1], 'up',  self.kch_upborder[-1])\n",
    "                log('open short', self.data.Close[-1])\n",
    "                self.sell()\n",
    "                self.entry_price = self.data.Close[-1]\n",
    "                self.be_level = 0\n",
    "                 # Set initial Stop Loss and Profit Target\n",
    "                if self.stop_loss_is_on == 1:\n",
    "                    max_level = pd.Series(self.data.High).rolling(window=self.stop_loss_lookback).max().iloc[-1]\n",
    "                    #log(max_level)\n",
    "                    self.stop_loss = max_level * (1 + self.stop_loss_pct)\n",
    "                    #log('sl', self.stop_loss)\n",
    "                if self.profit_target_is_on == 1:\n",
    "                    self.profit_target = self.entry_price - abs(self.entry_price - self.stop_loss) * self.profit_target_dyn_ratio\n",
    "                log(f'intial sl {self.stop_loss} and tp {self.profit_target}')\n",
    "                "
   ]
  },
  {
   "cell_type": "code",
   "execution_count": 85,
   "id": "e1e55fcd-d9d8-4de4-94d4-d955be9d56a8",
   "metadata": {},
   "outputs": [],
   "source": [
    "fee_per_turn = 0.001"
   ]
  },
  {
   "cell_type": "code",
   "execution_count": 86,
   "id": "4dbfdcae-0ed4-4f63-9ec8-96407b3e0d02",
   "metadata": {},
   "outputs": [
    {
     "name": "stdout",
     "output_type": "stream",
     "text": [
      "long trigger 2023-08-13 03:00:00 c 29406.78 o 29446.32 dn 29409.252500000002\n",
      "open long 29406.78\n",
      "intial sl 29404.17 and tp 0\n",
      "long close trigger: mean 29417.186666666665 29400.98\n",
      "long trigger 2023-08-17 21:30:00 c 25188.01 o 27672.94 dn 25382.35916666666\n",
      "open long 25188.01\n",
      "intial sl 25188.0 and tp 0\n",
      "long close trigger: mean 26206.88333333333 26801.29\n",
      "short trigger 2023-09-12 03:15:00 c 25869.15 o 25395.36 up 25859.09833333333\n",
      "open short 25869.15\n",
      "intial sl 25950.0 and tp 0\n",
      "short close trigger: mean 25650.964999999997 25861.37\n",
      "short trigger 2023-10-01 22:15:00 c 27871.69 o 27225.15 up 27865.74333333334\n",
      "open short 27871.69\n",
      "intial sl 28000.0 and tp 0\n",
      "short close trigger: mean 27960.12 27932.05\n",
      "short trigger 2023-10-16 05:15:00 c 27768.38 o 27288.44 up 27734.268333333333\n",
      "open short 27768.38\n",
      "intial sl 27812.42 and tp 0\n",
      "short close trigger: mean 27432.221666666665 27855.83\n",
      "short trigger 2023-10-16 13:15:00 c 29330.53 o 27928.77 up 29166.250833333335\n",
      "open short 29330.53\n",
      "intial sl 29350.0 and tp 0\n",
      "short close trigger: mean 28197.054999999997 28000.0\n"
     ]
    }
   ],
   "source": [
    "bt = Backtest(df, KelnerChannelRVStrategy,cash=100000, commission=fee_per_turn, trade_on_close=True,\n",
    "              hedging=False, exclusive_orders=True)\n",
    "stats = bt.run()"
   ]
  },
  {
   "cell_type": "code",
   "execution_count": 87,
   "id": "d0b0d0dc-c7f0-4860-ba4c-71a540d685d2",
   "metadata": {},
   "outputs": [
    {
     "data": {
      "text/plain": [
       "Start                     2023-01-01 00:00:00\n",
       "End                       2023-12-31 00:00:00\n",
       "Duration                    364 days 00:00:00\n",
       "Exposure Time [%]                    0.088724\n",
       "Equity Final [$]                 107879.54723\n",
       "Equity Peak [$]                  107879.54723\n",
       "Return [%]                           7.879547\n",
       "Buy & Hold Return [%]               155.78744\n",
       "Return (Ann.) [%]                    7.879547\n",
       "Volatility (Ann.) [%]                6.352693\n",
       "Sharpe Ratio                         1.240348\n",
       "Sortino Ratio                       17.683855\n",
       "Calmar Ratio                         8.563238\n",
       "Max. Drawdown [%]                    -0.92016\n",
       "Avg. Drawdown [%]                   -0.401345\n",
       "Max. Drawdown Duration       34 days 10:00:00\n",
       "Avg. Drawdown Duration        9 days 19:27:00\n",
       "# Trades                                    6\n",
       "Win Rate [%]                        33.333333\n",
       "Best Trade [%]                       6.298654\n",
       "Worst Trade [%]                     -0.415342\n",
       "Avg. Trade [%]                       1.601006\n",
       "Max. Trade Duration           0 days 02:30:00\n",
       "Avg. Trade Duration           0 days 01:03:00\n",
       "Profit Factor                       11.650217\n",
       "Expectancy [%]                       1.636267\n",
       "SQN                                  1.364368\n",
       "_strategy                 KelnerChannelRVS...\n",
       "_equity_curve                             ...\n",
       "_trades                      Size  EntryBa...\n",
       "dtype: object"
      ]
     },
     "execution_count": 87,
     "metadata": {},
     "output_type": "execute_result"
    }
   ],
   "source": [
    "stats"
   ]
  },
  {
   "cell_type": "code",
   "execution_count": null,
   "id": "fd2f5baa-880f-4aef-a331-ba41890d10fd",
   "metadata": {},
   "outputs": [],
   "source": []
  },
  {
   "cell_type": "code",
   "execution_count": null,
   "id": "1c30da33-4522-46a4-860b-24ab80737fef",
   "metadata": {},
   "outputs": [],
   "source": []
  }
 ],
 "metadata": {
  "kernelspec": {
   "display_name": "Python 3 (ipykernel)",
   "language": "python",
   "name": "python3"
  },
  "language_info": {
   "codemirror_mode": {
    "name": "ipython",
    "version": 3
   },
   "file_extension": ".py",
   "mimetype": "text/x-python",
   "name": "python",
   "nbconvert_exporter": "python",
   "pygments_lexer": "ipython3",
   "version": "3.10.11"
  }
 },
 "nbformat": 4,
 "nbformat_minor": 5
}
